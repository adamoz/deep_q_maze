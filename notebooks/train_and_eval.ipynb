{
 "cells": [
  {
   "cell_type": "code",
   "execution_count": 1,
   "metadata": {},
   "outputs": [],
   "source": [
    "%load_ext autoreload\n",
    "%autoreload 2\n",
    "%matplotlib inline"
   ]
  },
  {
   "cell_type": "code",
   "execution_count": 2,
   "metadata": {},
   "outputs": [],
   "source": [
    "import matplotlib.pylab as plt\n",
    "import logging\n",
    "import numpy as np\n",
    "logging.basicConfig(level=logging.INFO)\n",
    "logger = logging.getLogger()\n",
    "logger.setLevel(logging.DEBUG)"
   ]
  },
  {
   "cell_type": "code",
   "execution_count": 3,
   "metadata": {},
   "outputs": [],
   "source": [
    "from qrl_navigation.model import QNetwork\n",
    "from qrl_navigation.replay_buffer import ReplayBuffer\n",
    "from qrl_navigation.agent import Agent\n",
    "from qrl_navigation.environment import BananaMazeEnv\n",
    "from qrl_navigation.training import dqn_training"
   ]
  },
  {
   "cell_type": "code",
   "execution_count": 4,
   "metadata": {},
   "outputs": [
    {
     "name": "stderr",
     "output_type": "stream",
     "text": [
      "DEBUG:unityagents:The true file name is Banana\n",
      "DEBUG:unityagents:This is the launch string /home/adam/code/qrl_navigation/notebooks/../bin/unity_banana_maze/Banana.x86_64\n",
      "INFO:unityagents:\n",
      "'Academy' started successfully!\n",
      "Unity Academy name: Academy\n",
      "        Number of Brains: 1\n",
      "        Number of External Brains : 1\n",
      "        Lesson number : 0\n",
      "        Reset Parameters :\n",
      "\t\t\n",
      "Unity brain name: BananaBrain\n",
      "        Number of Visual Observations (per agent): 0\n",
      "        Vector Observation space type: continuous\n",
      "        Vector Observation space size (per agent): 37\n",
      "        Number of stacked Vector Observation: 1\n",
      "        Vector Action space type: discrete\n",
      "        Vector Action space size (per agent): 4\n",
      "        Vector Action descriptions: , , , \n"
     ]
    }
   ],
   "source": [
    "maze_env = BananaMazeEnv(train_mode=True)\n",
    "agent = Agent(maze_env.state_size, maze_env.action_size)"
   ]
  },
  {
   "cell_type": "code",
   "execution_count": 5,
   "metadata": {
    "scrolled": true
   },
   "outputs": [
    {
     "name": "stderr",
     "output_type": "stream",
     "text": [
      "INFO:root:Current eps is 0.995\n",
      "Episode 1\tAverage Score: 0.0\n",
      "INFO:root:Current eps is 0.990025\n",
      "Episode 2\tAverage Score: 0.0\n",
      "INFO:root:Current eps is 0.985074875\n",
      "Episode 3\tAverage Score: -0.3333333333333333\n",
      "INFO:root:Current eps is 0.9801495006250001\n",
      "Episode 4\tAverage Score: -0.75\n",
      "INFO:root:Current eps is 0.9752487531218751\n",
      "Episode 5\tAverage Score: -1.0\n",
      "INFO:root:Current eps is 0.9703725093562657\n",
      "Episode 6\tAverage Score: -0.8333333333333334\n",
      "INFO:root:Current eps is 0.9655206468094844\n",
      "Episode 7\tAverage Score: -0.7142857142857143\n",
      "INFO:root:Current eps is 0.960693043575437\n",
      "Episode 8\tAverage Score: -0.75\n",
      "INFO:root:Current eps is 0.9558895783575597\n",
      "Episode 9\tAverage Score: -0.6666666666666666\n",
      "INFO:root:Current eps is 0.9511101304657719\n",
      "Episode 10\tAverage Score: -0.4\n",
      "INFO:root:Current eps is 0.946354579813443\n",
      "Episode 11\tAverage Score: -0.36363636363636365\n",
      "INFO:root:Current eps is 0.9416228069143757\n",
      "Episode 12\tAverage Score: -0.3333333333333333\n",
      "INFO:root:Current eps is 0.9369146928798039\n",
      "Episode 13\tAverage Score: -0.23076923076923078\n",
      "INFO:root:Current eps is 0.9322301194154049\n",
      "Episode 14\tAverage Score: -0.21428571428571427\n",
      "INFO:root:Current eps is 0.9275689688183278\n",
      "Episode 15\tAverage Score: -0.13333333333333333\n",
      "INFO:root:Current eps is 0.9229311239742362\n",
      "Episode 16\tAverage Score: -0.0625\n",
      "INFO:root:Current eps is 0.918316468354365\n",
      "Episode 17\tAverage Score: -0.11764705882352941\n",
      "INFO:root:Current eps is 0.9137248860125932\n",
      "Episode 18\tAverage Score: -0.16666666666666666\n",
      "INFO:root:Current eps is 0.9091562615825302\n",
      "Episode 19\tAverage Score: -0.10526315789473684\n",
      "INFO:root:Current eps is 0.9046104802746175\n",
      "Episode 20\tAverage Score: -0.1\n",
      "We have achieved 0.0 mean score (13+ is good result)\n"
     ]
    }
   ],
   "source": [
    "meta = dqn_training(agent, maze_env, '../experiments/basic', n_episodes=20, logger=logger)"
   ]
  },
  {
   "cell_type": "code",
   "execution_count": 8,
   "metadata": {},
   "outputs": [
    {
     "data": {
      "text/plain": [
       "{'agent': 'Agent(state_size=37, action_size=4, fc_units=[64, 64], device=\"cpu\", dueling=True)',\n",
       " 'eps': [0.995,\n",
       "  0.990025,\n",
       "  0.985074875,\n",
       "  0.9801495006250001,\n",
       "  0.9752487531218751,\n",
       "  0.9703725093562657,\n",
       "  0.9655206468094844,\n",
       "  0.960693043575437,\n",
       "  0.9558895783575597,\n",
       "  0.9511101304657719,\n",
       "  0.946354579813443,\n",
       "  0.9416228069143757,\n",
       "  0.9369146928798039,\n",
       "  0.9322301194154049,\n",
       "  0.9275689688183278,\n",
       "  0.9229311239742362,\n",
       "  0.918316468354365,\n",
       "  0.9137248860125932,\n",
       "  0.9091562615825302,\n",
       "  0.9046104802746175],\n",
       " 'meta_path': '../experiments/basic/meta.pickle',\n",
       " 'model_path': '../experiments/basic/model.pt',\n",
       " 'scores': [0.0,\n",
       "  0.0,\n",
       "  -1.0,\n",
       "  -2.0,\n",
       "  -2.0,\n",
       "  0.0,\n",
       "  0.0,\n",
       "  -1.0,\n",
       "  0.0,\n",
       "  2.0,\n",
       "  0.0,\n",
       "  0.0,\n",
       "  1.0,\n",
       "  0.0,\n",
       "  1.0,\n",
       "  1.0,\n",
       "  -1.0,\n",
       "  -1.0,\n",
       "  1.0,\n",
       "  0.0]}"
      ]
     },
     "execution_count": 8,
     "metadata": {},
     "output_type": "execute_result"
    }
   ],
   "source": [
    "meta"
   ]
  },
  {
   "cell_type": "code",
   "execution_count": 6,
   "metadata": {},
   "outputs": [
    {
     "data": {
      "image/png": "[encoded data removed]",
      "text/plain": [
       "<matplotlib.figure.Figure at 0x7fcbe8bcd828>"
      ]
     },
     "metadata": {},
     "output_type": "display_data"
    }
   ],
   "source": [
    "fig = plt.figure(figsize=(10, 10))\n",
    "plt.plot(np.arange(len(meta['scores'])), meta['scores'])\n",
    "plt.ylabel('Score')\n",
    "plt.xlabel('Episode #')\n",
    "plt.show()"
   ]
  },
  {
   "cell_type": "code",
   "execution_count": 7,
   "metadata": {},
   "outputs": [],
   "source": [
    "maze_env.close()"
   ]
  },
  {
   "cell_type": "code",
   "execution_count": null,
   "metadata": {},
   "outputs": [],
   "source": []
  }
 ],
 "metadata": {
  "kernelspec": {
   "display_name": "Python 3",
   "language": "python",
   "name": "python3"
  },
  "language_info": {
   "codemirror_mode": {
    "name": "ipython",
    "version": 3
   },
   "file_extension": ".py",
   "mimetype": "text/x-python",
   "name": "python",
   "nbconvert_exporter": "python",
   "pygments_lexer": "ipython3",
   "version": "3.6.3"
  }
 },
 "nbformat": 4,
 "nbformat_minor": 2
}
